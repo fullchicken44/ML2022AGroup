{
 "cells": [
  {
   "cell_type": "markdown",
   "id": "6a9da32f",
   "metadata": {},
   "source": [
    "<h1 style=\"color:#ffc0cb;font-size:70px;font-family:Georgia;text-align:center;\"><strong>Rule Learning</strong></h1>\n",
    "\n",
    "### <b>Author: Nguyen Dang Huynh Chau</b>"
   ]
  },
  {
   "cell_type": "markdown",
   "id": "097061b9",
   "metadata": {},
   "source": [
    "# ✴️ Importing Necessary Libraries and datasets\n",
    "****"
   ]
  },
  {
   "cell_type": "code",
   "execution_count": 1,
   "id": "a2ee2eb1",
   "metadata": {},
   "outputs": [],
   "source": [
    "# import libraries which are pandas and numpy\n",
    "import pandas as pd\n",
    "import numpy as np\n",
    "\n",
    "#for plots\n",
    "import matplotlib.pyplot as plt\n",
    "plt.rcParams[\"figure.figsize\"]= 15,10\n",
    "\n",
    "#Libraries for plotting\n",
    "# Modules for data visualization\n",
    "import seaborn as sns\n",
    "sns.set_theme(style=\"ticks\", color_codes=True) #set theme in seaborn\n",
    "# scatter matrix library\n",
    "from pandas.plotting import scatter_matrix\n",
    "\n",
    "#Libraries for feature scaling\n",
    "from sklearn.preprocessing import StandardScaler\n",
    "\n",
    "#Libraries for Validation\n",
    "from sklearn.utils.multiclass import unique_labels\n",
    "from sklearn.metrics import confusion_matrix\n",
    "from sklearn.model_selection import cross_val_score\n",
    "from sklearn.metrics import roc_auc_score\n",
    "from sklearn.model_selection import train_test_split"
   ]
  },
  {
   "cell_type": "markdown",
   "id": "985608d4",
   "metadata": {},
   "source": [
    "# 📲 Data Retrieving\n",
    "***"
   ]
  },
  {
   "cell_type": "markdown",
   "id": "7c5e451d",
   "metadata": {},
   "source": [
    "> **Sailing Dataset**"
   ]
  },
  {
   "cell_type": "code",
   "execution_count": 2,
   "id": "366563d7",
   "metadata": {},
   "outputs": [
    {
     "name": "stdout",
     "output_type": "stream",
     "text": [
      "The shape of the ORGINAL data is (row, column): (17, 4)\n"
     ]
    },
    {
     "name": "stderr",
     "output_type": "stream",
     "text": [
      "/Users/taa/opt/anaconda3/lib/python3.8/site-packages/pandas/util/_decorators.py:311: ParserWarning: Falling back to the 'python' engine because the 'c' engine does not support regex separators (separators > 1 char and different from '\\s+' are interpreted as regex); you can avoid this warning by specifying engine='python'.\n",
      "  return func(*args, **kwargs)\n"
     ]
    },
    {
     "data": {
      "text/html": [
       "<div>\n",
       "<style scoped>\n",
       "    .dataframe tbody tr th:only-of-type {\n",
       "        vertical-align: middle;\n",
       "    }\n",
       "\n",
       "    .dataframe tbody tr th {\n",
       "        vertical-align: top;\n",
       "    }\n",
       "\n",
       "    .dataframe thead th {\n",
       "        text-align: right;\n",
       "    }\n",
       "</style>\n",
       "<table border=\"1\" class=\"dataframe\">\n",
       "  <thead>\n",
       "    <tr style=\"text-align: right;\">\n",
       "      <th></th>\n",
       "      <th>Outlook</th>\n",
       "      <th>Company</th>\n",
       "      <th>Sailboat</th>\n",
       "      <th>Sail</th>\n",
       "    </tr>\n",
       "  </thead>\n",
       "  <tbody>\n",
       "    <tr>\n",
       "      <th>0</th>\n",
       "      <td>rainy</td>\n",
       "      <td>big</td>\n",
       "      <td>big</td>\n",
       "      <td>yes</td>\n",
       "    </tr>\n",
       "    <tr>\n",
       "      <th>1</th>\n",
       "      <td>rainy</td>\n",
       "      <td>big</td>\n",
       "      <td>small</td>\n",
       "      <td>yes</td>\n",
       "    </tr>\n",
       "    <tr>\n",
       "      <th>2</th>\n",
       "      <td>rainy</td>\n",
       "      <td>med</td>\n",
       "      <td>big</td>\n",
       "      <td>no</td>\n",
       "    </tr>\n",
       "  </tbody>\n",
       "</table>\n",
       "</div>"
      ],
      "text/plain": [
       "  Outlook Company Sailboat Sail\n",
       "0   rainy     big      big  yes\n",
       "1   rainy     big    small  yes\n",
       "2   rainy     med      big   no"
      ]
     },
     "execution_count": 2,
     "metadata": {},
     "output_type": "execute_result"
    }
   ],
   "source": [
    "sailing = pd.read_csv(\"Data/sailing-custom-python.csv\", delimiter='\\s', skipinitialspace = True)\n",
    "\n",
    "sailing.columns = sailing.columns.str.replace(' ', '') #strip the extra-whitespaces out\n",
    "\n",
    "print(\"The shape of the ORGINAL data is (row, column):\", str(sailing.shape))\n",
    "\n",
    "# drop Unnamed, it is just a number given to identify each house\n",
    "sailing.head(3)"
   ]
  },
  {
   "cell_type": "markdown",
   "id": "a5ae87d8",
   "metadata": {},
   "source": [
    "> **Zoo Dataset**"
   ]
  },
  {
   "cell_type": "code",
   "execution_count": 3,
   "id": "6b4fbaf1",
   "metadata": {},
   "outputs": [
    {
     "name": "stdout",
     "output_type": "stream",
     "text": [
      "The shape of the ORGINAL data is (row, column): (101, 18)\n"
     ]
    },
    {
     "name": "stderr",
     "output_type": "stream",
     "text": [
      "/Users/taa/opt/anaconda3/lib/python3.8/site-packages/pandas/util/_decorators.py:311: ParserWarning: Falling back to the 'python' engine because the 'c' engine does not support regex separators (separators > 1 char and different from '\\s+' are interpreted as regex); you can avoid this warning by specifying engine='python'.\n",
      "  return func(*args, **kwargs)\n"
     ]
    },
    {
     "data": {
      "text/html": [
       "<div>\n",
       "<style scoped>\n",
       "    .dataframe tbody tr th:only-of-type {\n",
       "        vertical-align: middle;\n",
       "    }\n",
       "\n",
       "    .dataframe tbody tr th {\n",
       "        vertical-align: top;\n",
       "    }\n",
       "\n",
       "    .dataframe thead th {\n",
       "        text-align: right;\n",
       "    }\n",
       "</style>\n",
       "<table border=\"1\" class=\"dataframe\">\n",
       "  <thead>\n",
       "    <tr style=\"text-align: right;\">\n",
       "      <th></th>\n",
       "      <th>hair</th>\n",
       "      <th>feathers</th>\n",
       "      <th>eggs</th>\n",
       "      <th>milk</th>\n",
       "      <th>airborne</th>\n",
       "      <th>aquatic</th>\n",
       "      <th>predator</th>\n",
       "      <th>toothed</th>\n",
       "      <th>backbone</th>\n",
       "      <th>breathes</th>\n",
       "      <th>venomous</th>\n",
       "      <th>fins</th>\n",
       "      <th>legs</th>\n",
       "      <th>tail</th>\n",
       "      <th>domestic</th>\n",
       "      <th>catsize</th>\n",
       "      <th>type</th>\n",
       "      <th>name</th>\n",
       "    </tr>\n",
       "  </thead>\n",
       "  <tbody>\n",
       "    <tr>\n",
       "      <th>0</th>\n",
       "      <td>Yes</td>\n",
       "      <td>No</td>\n",
       "      <td>No</td>\n",
       "      <td>Yes</td>\n",
       "      <td>No</td>\n",
       "      <td>No</td>\n",
       "      <td>Yes</td>\n",
       "      <td>Yes</td>\n",
       "      <td>Yes</td>\n",
       "      <td>Yes</td>\n",
       "      <td>No</td>\n",
       "      <td>No</td>\n",
       "      <td>4.0</td>\n",
       "      <td>No</td>\n",
       "      <td>No</td>\n",
       "      <td>Yes</td>\n",
       "      <td>mammal</td>\n",
       "      <td>aardvark</td>\n",
       "    </tr>\n",
       "    <tr>\n",
       "      <th>1</th>\n",
       "      <td>Yes</td>\n",
       "      <td>No</td>\n",
       "      <td>No</td>\n",
       "      <td>Yes</td>\n",
       "      <td>No</td>\n",
       "      <td>No</td>\n",
       "      <td>No</td>\n",
       "      <td>Yes</td>\n",
       "      <td>Yes</td>\n",
       "      <td>Yes</td>\n",
       "      <td>No</td>\n",
       "      <td>No</td>\n",
       "      <td>4.0</td>\n",
       "      <td>Yes</td>\n",
       "      <td>No</td>\n",
       "      <td>Yes</td>\n",
       "      <td>mammal</td>\n",
       "      <td>antelope</td>\n",
       "    </tr>\n",
       "    <tr>\n",
       "      <th>2</th>\n",
       "      <td>No</td>\n",
       "      <td>No</td>\n",
       "      <td>Yes</td>\n",
       "      <td>No</td>\n",
       "      <td>No</td>\n",
       "      <td>Yes</td>\n",
       "      <td>Yes</td>\n",
       "      <td>Yes</td>\n",
       "      <td>Yes</td>\n",
       "      <td>No</td>\n",
       "      <td>No</td>\n",
       "      <td>Yes</td>\n",
       "      <td>0.0</td>\n",
       "      <td>Yes</td>\n",
       "      <td>No</td>\n",
       "      <td>No</td>\n",
       "      <td>fish</td>\n",
       "      <td>bass</td>\n",
       "    </tr>\n",
       "  </tbody>\n",
       "</table>\n",
       "</div>"
      ],
      "text/plain": [
       "  hair feathers eggs milk airborne aquatic predator toothed backbone breathes  \\\n",
       "0  Yes       No   No  Yes       No      No      Yes     Yes      Yes      Yes   \n",
       "1  Yes       No   No  Yes       No      No       No     Yes      Yes      Yes   \n",
       "2   No       No  Yes   No       No     Yes      Yes     Yes      Yes       No   \n",
       "\n",
       "  venomous fins  legs tail domestic catsize    type      name  \n",
       "0       No   No   4.0   No       No     Yes  mammal  aardvark  \n",
       "1       No   No   4.0  Yes       No     Yes  mammal  antelope  \n",
       "2       No  Yes   0.0  Yes       No      No    fish      bass  "
      ]
     },
     "execution_count": 3,
     "metadata": {},
     "output_type": "execute_result"
    }
   ],
   "source": [
    "zoo = pd.read_csv(\"Data/zoo-python.csv\", delimiter='\\s', skipinitialspace = True)\n",
    "\n",
    "zoo.columns = zoo.columns.str.replace(' ', '') #strip the extra-whitespaces out\n",
    "\n",
    "print(\"The shape of the ORGINAL data is (row, column):\", str(zoo.shape))\n",
    "\n",
    "# drop Unnamed, it is just a number given to identify each house\n",
    "zoo.head(3)"
   ]
  },
  {
   "cell_type": "markdown",
   "id": "568e3af0",
   "metadata": {},
   "source": [
    "# 🔈 Data Information\n",
    "****"
   ]
  },
  {
   "cell_type": "markdown",
   "id": "059ee923",
   "metadata": {},
   "source": [
    "> **Sailing Dataset**"
   ]
  },
  {
   "cell_type": "code",
   "execution_count": 4,
   "id": "99fef6e6",
   "metadata": {},
   "outputs": [
    {
     "name": "stdout",
     "output_type": "stream",
     "text": [
      "The shape of the train data is (row, column):(17, 4)\n",
      "<class 'pandas.core.frame.DataFrame'>\n",
      "RangeIndex: 17 entries, 0 to 16\n",
      "Data columns (total 4 columns):\n",
      " #   Column    Non-Null Count  Dtype \n",
      "---  ------    --------------  ----- \n",
      " 0   Outlook   17 non-null     object\n",
      " 1   Company   17 non-null     object\n",
      " 2   Sailboat  17 non-null     object\n",
      " 3   Sail      17 non-null     object\n",
      "dtypes: object(4)\n",
      "memory usage: 672.0+ bytes\n",
      "None\n"
     ]
    }
   ],
   "source": [
    "print (\"The shape of the train data is (row, column):\"+ str(sailing.shape))\n",
    "print (sailing.info())"
   ]
  },
  {
   "cell_type": "markdown",
   "id": "aa102902",
   "metadata": {},
   "source": [
    "> **Zoo Dataset**"
   ]
  },
  {
   "cell_type": "code",
   "execution_count": 5,
   "id": "5b72e8cf",
   "metadata": {},
   "outputs": [
    {
     "name": "stdout",
     "output_type": "stream",
     "text": [
      "The shape of the train data is (row, column):(101, 18)\n",
      "<class 'pandas.core.frame.DataFrame'>\n",
      "RangeIndex: 101 entries, 0 to 100\n",
      "Data columns (total 18 columns):\n",
      " #   Column    Non-Null Count  Dtype  \n",
      "---  ------    --------------  -----  \n",
      " 0   hair      101 non-null    object \n",
      " 1   feathers  101 non-null    object \n",
      " 2   eggs      101 non-null    object \n",
      " 3   milk      101 non-null    object \n",
      " 4   airborne  101 non-null    object \n",
      " 5   aquatic   101 non-null    object \n",
      " 6   predator  101 non-null    object \n",
      " 7   toothed   101 non-null    object \n",
      " 8   backbone  101 non-null    object \n",
      " 9   breathes  101 non-null    object \n",
      " 10  venomous  101 non-null    object \n",
      " 11  fins      101 non-null    object \n",
      " 12  legs      101 non-null    float64\n",
      " 13  tail      101 non-null    object \n",
      " 14  domestic  101 non-null    object \n",
      " 15  catsize   101 non-null    object \n",
      " 16  type      101 non-null    object \n",
      " 17  name      101 non-null    object \n",
      "dtypes: float64(1), object(17)\n",
      "memory usage: 14.3+ KB\n",
      "None\n"
     ]
    }
   ],
   "source": [
    "print (\"The shape of the train data is (row, column):\"+ str(zoo.shape))\n",
    "print (zoo.info())"
   ]
  },
  {
   "cell_type": "markdown",
   "id": "bcfbb65e",
   "metadata": {},
   "source": [
    "# Entropy Function:\n",
    "****"
   ]
  },
  {
   "cell_type": "code",
   "execution_count": 6,
   "id": "aa2df608",
   "metadata": {},
   "outputs": [],
   "source": [
    "import math\n",
    "\n",
    "def entropy(data, target):\n",
    "    #get the values count of the target var\n",
    "    vCounts = pd.value_counts(data[target])\n",
    "    #get all data size\n",
    "    dataSize = data.shape[0] \n",
    "    #intilise the entropy\n",
    "    entropy_sum = 0\n",
    "    #Calculate entropy\n",
    "    for value in vCounts:\n",
    "        #Calculate occurrence prob\n",
    "        proportion = value / dataSize\n",
    "        #Calculate entropy\n",
    "        entropy_sum = entropy_sum - (proportion * math.log(proportion, 2))\n",
    "    #Return entropy\n",
    "    return entropy_sum\n"
   ]
  },
  {
   "cell_type": "code",
   "execution_count": 7,
   "id": "f1a1ea4a",
   "metadata": {},
   "outputs": [
    {
     "data": {
      "text/plain": [
       "0.9975025463691153"
      ]
     },
     "execution_count": 7,
     "metadata": {},
     "output_type": "execute_result"
    }
   ],
   "source": [
    "entropy(sailing, 'Sail')"
   ]
  },
  {
   "cell_type": "code",
   "execution_count": 8,
   "id": "c1b597dc",
   "metadata": {},
   "outputs": [
    {
     "data": {
      "text/plain": [
       "2.390559682294039"
      ]
     },
     "execution_count": 8,
     "metadata": {},
     "output_type": "execute_result"
    }
   ],
   "source": [
    "entropy(zoo, 'type')"
   ]
  },
  {
   "cell_type": "markdown",
   "id": "0a45d82b",
   "metadata": {},
   "source": [
    "# Majority Class:\n",
    "****"
   ]
  },
  {
   "cell_type": "code",
   "execution_count": 9,
   "id": "19bedc72",
   "metadata": {},
   "outputs": [],
   "source": [
    "def majority_class_1(data, target):\n",
    "    #initialse the majority\n",
    "    majority = 0\n",
    "    #intialise the class\n",
    "    cls = ''\n",
    "    #get the values count of the target var\n",
    "    vCounts = pd.value_counts(data[target])\n",
    "    \n",
    "    for value in vCounts:\n",
    "        #get the count to compare\n",
    "        count = vCounts[value]\n",
    "        #compare the values count\n",
    "        if count > majority:\n",
    "            #compare the values count\n",
    "            majority = count\n",
    "            #get the name of the class\n",
    "            cls = value\n",
    "    #return class name\n",
    "    return cls\n",
    "        \n",
    "def majority_class_2(data, target):\n",
    "    #get the values count of the target var\n",
    "    counts = pd.value_counts(data[target])\n",
    "    #use the built-in function to find the max class\n",
    "    max_name = counts.idxmax()\n",
    "    return max_name\n"
   ]
  },
  {
   "cell_type": "code",
   "execution_count": 10,
   "id": "f7887892",
   "metadata": {},
   "outputs": [
    {
     "data": {
      "text/plain": [
       "'mammal'"
      ]
     },
     "execution_count": 10,
     "metadata": {},
     "output_type": "execute_result"
    }
   ],
   "source": [
    "majority_class_1(zoo, 'type')"
   ]
  },
  {
   "cell_type": "code",
   "execution_count": 11,
   "id": "9e7027ed",
   "metadata": {},
   "outputs": [
    {
     "data": {
      "text/plain": [
       "'mammal'"
      ]
     },
     "execution_count": 11,
     "metadata": {},
     "output_type": "execute_result"
    }
   ],
   "source": [
    "majority_class_2(zoo, 'type')"
   ]
  },
  {
   "cell_type": "markdown",
   "id": "bc255ed7",
   "metadata": {},
   "source": [
    "# Rule Learner:\n",
    "****"
   ]
  },
  {
   "cell_type": "code",
   "execution_count": 16,
   "id": "240aa42b",
   "metadata": {},
   "outputs": [],
   "source": [
    "def simpler_rule_learner(data, target):\n",
    "    #The pre-condition of each rule contains a single\n",
    "    all_attributes = set(data.columns)\n",
    "    #The adjust rule of each rule contains a single\n",
    "    all_attributes = all_attributes.difference([target,])\n",
    "    \n",
    "    #loop through the data\n",
    "    while data.shape[0] > 0:\n",
    "        #calculate entropy., if the entropy = 0 then calculate the majority class \n",
    "        if entropy(data, target) == 0:\n",
    "            print(\"otherwise =>\", majority_class_2(data,target))\n",
    "            data = data.iloc[0:0]\n",
    "        #entropy is not equal to 0 then find other target var\n",
    "        else:\n",
    "            #Assume the best entropy is the current passes target\n",
    "            best_entropy = entropy(data, target)\n",
    "            #intialise the best attribute name\n",
    "            best_attribute = ''\n",
    "            #intialise the best values name\n",
    "            best_value = ''\n",
    "            #intialise the best data = current data\n",
    "            best_data = data\n",
    "            #loop through all attribute of the data\n",
    "            for attribute in all_attributes:\n",
    "                #loop through all attribute of the data\n",
    "                vCounts = pd.value_counts(data[attribute])\n",
    "                #loop through all attribute of the data values count\n",
    "                for value in vCounts:\n",
    "                    data2 = data.loc[data[attribute] == value]\n",
    "                    if entropy(data2, target) < best_entropy:\n",
    "                        best_entropy = entropy(data2, target)\n",
    "                        best_attribute = attribute\n",
    "                        best_value = value\n",
    "                        best_data = data2\n",
    "            print(best_attribute, '=', best_value, '=>', majority_class_2(best_data,target))\n",
    "            data = data.loc[data[best_attribute] != best_value] "
   ]
  },
  {
   "cell_type": "code",
   "execution_count": 17,
   "id": "d5490071",
   "metadata": {},
   "outputs": [
    {
     "name": "stdout",
     "output_type": "stream",
     "text": [
      "legs = 8.0 => invertebrate\n",
      "legs = 5.0 => invertebrate\n",
      "feathers = Yes => bird\n",
      "legs = 2.0 => mammal\n",
      "airborne = Yes => insect\n",
      "milk = Yes => mammal\n",
      "eggs = No => reptile\n",
      "fins = Yes => fish\n",
      "catsize = Yes => reptile\n",
      "breathes = No => invertebrate\n",
      "legs = 6.0 => insect\n",
      "toothed = No => invertebrate\n",
      "legs = 0.0 => reptile\n",
      "predator = No => amphibian\n",
      "venomous = Yes => amphibian\n",
      "aquatic = Yes => amphibian\n",
      "otherwise => reptile\n"
     ]
    }
   ],
   "source": [
    "simpler_rule_learner(zoo, 'type')"
   ]
  },
  {
   "cell_type": "code",
   "execution_count": 18,
   "id": "9cf466ff",
   "metadata": {},
   "outputs": [
    {
     "name": "stdout",
     "output_type": "stream",
     "text": [
      "Company = big => yes\n",
      "Outlook = rainy => no\n",
      "Company = med => yes\n",
      "Sailboat = small => yes\n",
      "otherwise => no\n"
     ]
    }
   ],
   "source": [
    "simpler_rule_learner(sailing, 'Sail')"
   ]
  },
  {
   "cell_type": "code",
   "execution_count": null,
   "id": "149491f3",
   "metadata": {},
   "outputs": [],
   "source": []
  },
  {
   "cell_type": "code",
   "execution_count": null,
   "id": "da774ac8",
   "metadata": {},
   "outputs": [],
   "source": []
  },
  {
   "cell_type": "code",
   "execution_count": null,
   "id": "8d104895",
   "metadata": {},
   "outputs": [],
   "source": []
  },
  {
   "cell_type": "code",
   "execution_count": null,
   "id": "b3766e15",
   "metadata": {},
   "outputs": [],
   "source": []
  },
  {
   "cell_type": "code",
   "execution_count": null,
   "id": "0f8852fd",
   "metadata": {},
   "outputs": [],
   "source": []
  },
  {
   "cell_type": "code",
   "execution_count": null,
   "id": "955127fa",
   "metadata": {},
   "outputs": [],
   "source": []
  },
  {
   "cell_type": "code",
   "execution_count": null,
   "id": "809e3d94",
   "metadata": {},
   "outputs": [],
   "source": []
  },
  {
   "cell_type": "code",
   "execution_count": null,
   "id": "1dc1f4a4",
   "metadata": {},
   "outputs": [],
   "source": []
  }
 ],
 "metadata": {
  "kernelspec": {
   "display_name": "Python 3 (ipykernel)",
   "language": "python",
   "name": "python3"
  },
  "language_info": {
   "codemirror_mode": {
    "name": "ipython",
    "version": 3
   },
   "file_extension": ".py",
   "mimetype": "text/x-python",
   "name": "python",
   "nbconvert_exporter": "python",
   "pygments_lexer": "ipython3",
   "version": "3.9.7"
  }
 },
 "nbformat": 4,
 "nbformat_minor": 5
}
